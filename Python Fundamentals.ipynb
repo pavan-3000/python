{
 "cells": [
  {
   "cell_type": "code",
   "execution_count": 5,
   "id": "27c57556",
   "metadata": {},
   "outputs": [
    {
     "data": {
      "text/plain": [
       "6"
      ]
     },
     "execution_count": 5,
     "metadata": {},
     "output_type": "execute_result"
    }
   ],
   "source": [
    "#basic\n",
    "x=3\n",
    "x+=3\n",
    "x"
   ]
  },
  {
   "cell_type": "code",
   "execution_count": 9,
   "id": "de08d8ee",
   "metadata": {},
   "outputs": [
    {
     "name": "stdout",
     "output_type": "stream",
     "text": [
      "3\n",
      "-1\n",
      "0.5\n",
      "1\n",
      "0\n"
     ]
    }
   ],
   "source": [
    "#arthamatic op\n",
    "\n",
    "a=1\n",
    "b=2\n",
    "\n",
    "print(a+b)  #add\n",
    "print(a-b)  #sub\n",
    "print(a/b)  #div\n",
    "print(a%b)  #mod\n",
    "print(a//b) #power"
   ]
  },
  {
   "cell_type": "code",
   "execution_count": 8,
   "id": "31264b1b",
   "metadata": {},
   "outputs": [
    {
     "name": "stdout",
     "output_type": "stream",
     "text": [
      "False\n",
      "True\n",
      "False\n"
     ]
    }
   ],
   "source": [
    "\n",
    "#operater\n",
    "a=1\n",
    "b=3\n",
    "\n",
    "print(a<10 and b>10)\n",
    "print(a<10 or b>10)\n",
    "print(not(a))"
   ]
  },
  {
   "cell_type": "code",
   "execution_count": 27,
   "id": "2aeb8542",
   "metadata": {},
   "outputs": [
    {
     "name": "stdout",
     "output_type": "stream",
     "text": [
      "(1, 'a', True)\n",
      "<class 'tuple'>\n",
      "1\n",
      "True\n",
      "(1, 'a')\n",
      "3\n",
      "(1, 'a', True, 1, 3, 4)\n",
      "(1, 3, 4, 1, 'a', True)\n",
      "(1, 'a', True, 1, 'a', True, 1, 'a', True)\n",
      "(1, 'a', True, 1, 'a', True, 1, 'a', True, 1, 3, 4)\n",
      "1\n",
      "4\n"
     ]
    }
   ],
   "source": [
    "#tuple\n",
    "#hetrogenous\n",
    "#they r immutable\n",
    "\n",
    "tup=(1,\"a\",True)\n",
    "tup1=(1,3,4)\n",
    "print(tup)\n",
    "print(type(tup))\n",
    "\n",
    "\n",
    "#slicing\n",
    "#start from 0\n",
    "\n",
    "print(tup[0]) # first ele\n",
    "print(tup[-1]) # last ele\n",
    "print(tup[0:-1])\n",
    "\n",
    "#length\n",
    "\n",
    "print(len(tup))\n",
    "\n",
    "#cancatination\n",
    "\n",
    "print(tup+tup1)\n",
    "print(tup1+tup)\n",
    "\n",
    "\n",
    "#repeating\n",
    "\n",
    "print(tup*3)\n",
    "print(tup*3+tup1) #concat + repeat\n",
    "\n",
    "\n",
    "#min and max\n",
    "\n",
    "print(min(tup1))\n",
    "print(max(tup1))"
   ]
  },
  {
   "cell_type": "code",
   "execution_count": 46,
   "id": "bba65dfa",
   "metadata": {},
   "outputs": [
    {
     "name": "stdout",
     "output_type": "stream",
     "text": [
      "[1, 'a', False]\n",
      "<class 'list'>\n",
      "1\n",
      "False\n",
      "[1, 'a']\n",
      "[100, 'a', False]\n",
      "[100, 'a', False, 10]\n",
      "[100, 'a', False]\n",
      "[False, 'a', 100]\n",
      "[False, 'hello', 'a', 100]\n",
      "[1, 3, 4]\n",
      "[False, 'hello', 'a', 100, 1, 3, 4]\n",
      "[1, 3, 4, False, 'hello', 'a', 100]\n"
     ]
    }
   ],
   "source": [
    "#list\n",
    "# mutable\n",
    "\n",
    "\n",
    "l=[1,'a',False]\n",
    "l1=[1,3,4]\n",
    "print(l)\n",
    "print(type(l))\n",
    "\n",
    "#slicing\n",
    "\n",
    "print(l[0])   #first ele\n",
    "print(l[-1]) #last ele\n",
    "print(l[0:2])  #multiple ele\n",
    "\n",
    "\n",
    "#chaning value\n",
    "\n",
    "l[0]=100\n",
    "print(l)\n",
    "\n",
    "#append in list\n",
    "\n",
    "l.append(10)  #add ele at last\n",
    "print(l)  \n",
    "\n",
    "# pop  in list\n",
    "\n",
    "\n",
    "l.pop()   #remove last ele \n",
    "print(l)\n",
    "\n",
    "\n",
    "#reverse the list\n",
    "\n",
    "\n",
    "l.reverse()\n",
    "print(l)\n",
    "\n",
    "\n",
    "\n",
    "#inserting ele at list in any position\n",
    "\n",
    "\n",
    "\n",
    "l.insert(1,\"hello\")\n",
    "print(l)\n",
    "\n",
    "\n",
    "\n",
    "#sorting list\n",
    "\n",
    "\n",
    "l1.sort()\n",
    "print(l1)\n",
    "\n",
    "#concat\n",
    "\n",
    "print(l+l1)  \n",
    "print(l1+l)"
   ]
  },
  {
   "cell_type": "code",
   "execution_count": 52,
   "id": "9660fdfc",
   "metadata": {},
   "outputs": [
    {
     "name": "stdout",
     "output_type": "stream",
     "text": [
      "{'apple': 50, 'banana': 20, 'orange': 40}\n",
      "<class 'dict'>\n",
      "dict_keys(['apple', 'banana', 'orange'])\n",
      "dict_values([50, 20, 40])\n",
      "{'apple': 10, 'banana': 20, 'orange': 40}\n",
      "{'apple': 10, 'banana': 20, 'orange': 40, 'mango': 20, 'peach': 40, 'nuts': 60}\n",
      "{'apple': 10, 'banana': 20, 'mango': 20, 'peach': 40, 'nuts': 60}\n"
     ]
    }
   ],
   "source": [
    "#Dictionary\n",
    "\n",
    "f={\"apple\":50,\"banana\":20,\"orange\":40}\n",
    "f1={\"mango\":20,\"peach\":40,\"nuts\":60}\n",
    "print(f)\n",
    "print(type(f))\n",
    "\n",
    "\n",
    "#extrating only keys\n",
    "\n",
    "print(f.keys())\n",
    "\n",
    "# extrating only values\n",
    "\n",
    "print(f.values())\n",
    "\n",
    "\n",
    "#modifying values\n",
    "\n",
    "f[\"apple\"]=10\n",
    "print(f)\n",
    "\n",
    "#updating dict\n",
    "\n",
    "f.update(f1)  #concatination\n",
    "print(f)\n",
    "\n",
    "#pop in dict\n",
    "\n",
    "f.pop(\"orange\")\n",
    "print(f)"
   ]
  },
  {
   "cell_type": "code",
   "execution_count": 63,
   "id": "8d6bffcf",
   "metadata": {},
   "outputs": [
    {
     "name": "stdout",
     "output_type": "stream",
     "text": [
      "{1, 2, 4}\n",
      "<class 'set'>\n",
      "{1, 2, 10, 4}\n",
      "{1, 2, 4, 5, 6, 10}\n",
      "{2, 4, 5, 6, 10}\n",
      "{2, 'c', 4, 5, 6, 10, 'b', 'a'}\n",
      "set()\n"
     ]
    }
   ],
   "source": [
    "#sets\n",
    "#no dublicate allowed\n",
    "\n",
    "s={1,2,4}\n",
    "s1={'a','b','c'}\n",
    "print(s)\n",
    "print(type(s))\n",
    "\n",
    "\n",
    "#add new ele\n",
    "\n",
    "s.add(10)  # not having index so it can add at any pos\n",
    "print(s)\n",
    "\n",
    "\n",
    "#adding multiple ele\n",
    "\n",
    "s.update([1,5,6])   # not having index so it can add at any pos\n",
    "print(s)\n",
    "\n",
    "#removing in sets\n",
    "\n",
    "s.remove(1)\n",
    "print(s)\n",
    "\n",
    "#union\n",
    "\n",
    "print(s.union(s1))\n",
    "\n",
    "#intersection\n",
    "\n",
    "\n",
    "print(s.intersection(s1))\n"
   ]
  },
  {
   "cell_type": "code",
   "execution_count": 67,
   "id": "884f41ad",
   "metadata": {},
   "outputs": [
    {
     "name": "stdout",
     "output_type": "stream",
     "text": [
      "b is greater\n",
      "c is greater\n"
     ]
    },
    {
     "data": {
      "text/plain": [
       "True"
      ]
     },
     "execution_count": 67,
     "metadata": {},
     "output_type": "execute_result"
    }
   ],
   "source": [
    "#condition statement\n",
    "\n",
    "\n",
    "#if statement\n",
    "\n",
    "a=1\n",
    "b=2\n",
    "c=3\n",
    "if a>b:\n",
    "    print(\"a is greater\")\n",
    "else:\n",
    "    print(\"b is greater\")\n",
    "    \n",
    "    \n",
    "    \n",
    "#else if\n",
    "\n",
    "if a>b and a>b:\n",
    "    print(\"a is greater\")\n",
    "elif b>c and b>c:\n",
    "    print(\"b is greater\")\n",
    "else:\n",
    "    print(\"c is greater\")\n",
    "    \n",
    "    \n",
    "#in operater\n",
    "\n",
    "tup=(1,2,3,4,5)\n",
    "2 in tup\n",
    "\n",
    "\n",
    "l=[1,3,4,5]\n",
    "\n",
    "if l[0]==1"
   ]
  },
  {
   "cell_type": "code",
   "execution_count": null,
   "id": "54b04dae",
   "metadata": {},
   "outputs": [],
   "source": []
  }
 ],
 "metadata": {
  "kernelspec": {
   "display_name": "Python 3 (ipykernel)",
   "language": "python",
   "name": "python3"
  },
  "language_info": {
   "codemirror_mode": {
    "name": "ipython",
    "version": 3
   },
   "file_extension": ".py",
   "mimetype": "text/x-python",
   "name": "python",
   "nbconvert_exporter": "python",
   "pygments_lexer": "ipython3",
   "version": "3.10.8"
  }
 },
 "nbformat": 4,
 "nbformat_minor": 5
}
